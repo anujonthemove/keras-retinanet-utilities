{
 "cells": [
  {
   "cell_type": "code",
   "execution_count": null,
   "metadata": {},
   "outputs": [],
   "source": [
    "import pandas as pd\n",
    "import os\n",
    "import cv2\n",
    "import time"
   ]
  },
  {
   "cell_type": "code",
   "execution_count": null,
   "metadata": {},
   "outputs": [],
   "source": [
    "rename_path = lambda x, frame_path: os.path.join(frame_path, 'img_' + str(x).zfill(5) + '.jpg')"
   ]
  },
  {
   "cell_type": "code",
   "execution_count": null,
   "metadata": {},
   "outputs": [],
   "source": [
    "def label_to_mapping_dict(label_df):\n",
    "    sorted_labels = sorted(label_df.unique())\n",
    "    return dict(zip(sorted_labels, range(len(sorted_labels))))"
   ]
  },
  {
   "cell_type": "code",
   "execution_count": null,
   "metadata": {},
   "outputs": [],
   "source": [
    "def anno_writer(in_path, out_path, frame_path, filter_label_list=[]):    \n",
    "    data = pd.read_csv(in_path, sep='\\s+', header=None)\n",
    "    data[5] = data[3] - data[5]\n",
    "    data[6] = data[4] - data[6]\n",
    "    colnames = ['obj_id', 'duration', 'frame', 'x1', 'y1', 'x2', 'y2', 'label']\n",
    "    data.columns = colnames\n",
    "    data.drop(['obj_id', 'duration'], axis=1, inplace=True)\n",
    "    data.sort_values(by='frame', inplace=True)\n",
    "    data.reset_index(drop=True)\n",
    "    data = data[~data['label'].isin([0, 3, 4, 5])]\n",
    "    class_mapping = {1:'person', 2:'car'}\n",
    "    data['label'] = data['label'].apply(lambda x:class_mapping[x])\n",
    "    data['frame'] = data['frame'].apply(lambda x: rename_path(x, frame_path))\n",
    "    # data.replace({'label':class_mapping})\n",
    "    abs_file_path = os.path.join(out_path, 'annotations.csv')\n",
    "    data.to_csv(abs_file_path, encoding='utf-8', index=False, header=False)"
   ]
  },
  {
   "cell_type": "code",
   "execution_count": null,
   "metadata": {},
   "outputs": [],
   "source": [
    "def im_writer(video_path, out_path):\n",
    "    count = 0\n",
    "    cap = cv2.VideoCapture(video_path)\n",
    "\n",
    "    while True:\n",
    "        try:\n",
    "            ret, frame = cap.read()\n",
    "            if not ret:\n",
    "                break\n",
    "            img_name = 'img_'+str(count).zfill(5)+'.jpg'\n",
    "            full_path = os.path.join(out_path, img_name)\n",
    "            cv2.imwrite(full_path, frame)\n",
    "            count += 1\n",
    "        except Exception as e:\n",
    "            print(e)\n",
    "\n",
    "    print('Completed...!')\n",
    "    if cap is not None:\n",
    "        cap.release()\n",
    "    print('Pausing for 10 seconds...')\n",
    "    time.sleep(10)\n",
    "    print('Resuming operation....')"
   ]
  },
  {
   "cell_type": "code",
   "execution_count": null,
   "metadata": {},
   "outputs": [],
   "source": [
    "def get_file_path(in_path, out_path):\n",
    "    anno_path = []\n",
    "    video_path = []\n",
    "    abs_out_frame_path = []\n",
    "    abs_out_anno_path = []\n",
    "    for root, dirs, files in os.walk(in_path):\n",
    "        for file_name in files:\n",
    "            abs_file_path = os.path.join(root, file_name)\n",
    "            abs_out_path = os.path.join(out_path, os.path.relpath(root, in_path))\n",
    "            if file_name.endswith('txt'):\n",
    "                anno_path.append(abs_file_path)\n",
    "                abs_out_anno_path.append(abs_out_path)\n",
    "            elif file_name.endswith('mp4'):\n",
    "                video_path.append(abs_file_path)\n",
    "                abs_out_frame_path.append(abs_out_path)\n",
    "    \n",
    "    return anno_path, video_path, abs_out_anno_path, abs_out_frame_path"
   ]
  },
  {
   "cell_type": "code",
   "execution_count": null,
   "metadata": {},
   "outputs": [],
   "source": [
    "def _to_retinanet(in_path, out_path, filter_label_list=[]):\n",
    "    anno_path, video_path, abs_out_anno_path, abs_out_frame_path = get_file_path(in_path, out_path)\n",
    "    \n",
    "    for i in range(len(anno_path)):\n",
    "        if not os.path.isdir(abs_out_frame_path[i]):\n",
    "            os.makedirs(abs_out_frame_path[i])\n",
    "        video_file_path = video_path[i]\n",
    "        print('Working on video: ', video_file_path)\n",
    "        print('video_write_path: ', abs_out_frame_path[i])\n",
    "        im_writer(video_file_path, abs_out_frame_path[i])\n",
    "        \n",
    "        if not os.path.isdir(abs_out_anno_path[i]):\n",
    "            os.makedirs(abs_out_anno_path[i])\n",
    "        anno_file_path = anno_path[i]\n",
    "        print('Working on annotation: ', anno_file_path)\n",
    "        anno_writer(anno_file_path, abs_out_anno_path[i], abs_out_frame_path[i], filter_label_list)"
   ]
  },
  {
   "cell_type": "code",
   "execution_count": null,
   "metadata": {},
   "outputs": [],
   "source": [
    "in_path = '/home/anuj/dataset/drone/virat_dataset'\n",
    "out_path = '/home/anuj/dataset/drone/virat_dataset_retinanet'"
   ]
  },
  {
   "cell_type": "code",
   "execution_count": null,
   "metadata": {},
   "outputs": [],
   "source": [
    "_to_retinanet(in_path, out_path)"
   ]
  },
  {
   "cell_type": "code",
   "execution_count": null,
   "metadata": {},
   "outputs": [],
   "source": []
  },
  {
   "cell_type": "code",
   "execution_count": null,
   "metadata": {},
   "outputs": [],
   "source": []
  }
 ],
 "metadata": {
  "kernelspec": {
   "display_name": "Python 3",
   "language": "python",
   "name": "python3"
  },
  "language_info": {
   "codemirror_mode": {
    "name": "ipython",
    "version": 3
   },
   "file_extension": ".py",
   "mimetype": "text/x-python",
   "name": "python",
   "nbconvert_exporter": "python",
   "pygments_lexer": "ipython3",
   "version": "3.5.2"
  }
 },
 "nbformat": 4,
 "nbformat_minor": 2
}
